{
 "cells": [
  {
   "cell_type": "code",
   "execution_count": 33,
   "id": "53db17ed-6388-455d-bb06-111777a5aba9",
   "metadata": {},
   "outputs": [
    {
     "name": "stdout",
     "output_type": "stream",
     "text": [
      "Accuracy on test set: 0.982739420935412\n",
      "\n",
      "Classification Report:\n",
      "               precision    recall  f1-score   support\n",
      "\n",
      "        FAKE       0.99      0.98      0.98      4710\n",
      "        REAL       0.98      0.99      0.98      4270\n",
      "\n",
      "    accuracy                           0.98      8980\n",
      "   macro avg       0.98      0.98      0.98      8980\n",
      "weighted avg       0.98      0.98      0.98      8980\n",
      "\n",
      "Model and vectorizer saved to disk.\n",
      "\n",
      "Prediction for sample news: REAL\n"
     ]
    }
   ],
   "source": [
    "import pandas as pd\n",
    "from sklearn.model_selection import train_test_split\n",
    "from sklearn.feature_extraction.text import TfidfVectorizer\n",
    "from sklearn.linear_model import LogisticRegression\n",
    "from sklearn.metrics import accuracy_score, classification_report\n",
    "import joblib  # for saving/loading models\n",
    "\n",
    "# Load datasets (update paths if needed)\n",
    "fake_df = pd.read_csv(r\"Fake.csv\")\n",
    "real_df = pd.read_csv(r\"True.csv\")\n",
    "\n",
    "# Add labels\n",
    "fake_df['label'] = 'FAKE'\n",
    "real_df['label'] = 'REAL'\n",
    "\n",
    "# Combine datasets and shuffle\n",
    "df = pd.concat([fake_df, real_df], ignore_index=True)\n",
    "df = df.sample(frac=1, random_state=42).reset_index(drop=True)\n",
    "\n",
    "# Use only relevant columns\n",
    "df = df[['text', 'label']]\n",
    "\n",
    "# Split data into features and target\n",
    "X = df['text']\n",
    "y = df['label']\n",
    "\n",
    "# Train-test split\n",
    "X_train, X_test, y_train, y_test = train_test_split(X, y, test_size=0.2, random_state=42)\n",
    "\n",
    "# Initialize vectorizer\n",
    "tfidf = TfidfVectorizer(stop_words='english', max_df=0.7)\n",
    "\n",
    "# Fit-transform train, transform test\n",
    "X_train_tfidf = tfidf.fit_transform(X_train)\n",
    "X_test_tfidf = tfidf.transform(X_test)\n",
    "\n",
    "# Train model\n",
    "model = LogisticRegression()\n",
    "model.fit(X_train_tfidf, y_train)\n",
    "\n",
    "# Test predictions and evaluation\n",
    "y_pred = model.predict(X_test_tfidf)\n",
    "print(\"Accuracy on test set:\", accuracy_score(y_test, y_pred))\n",
    "print(\"\\nClassification Report:\\n\", classification_report(y_test, y_pred))\n",
    "\n",
    "# Save model and vectorizer to disk\n",
    "joblib.dump(model, \"fake_news_model.joblib\")\n",
    "joblib.dump(tfidf, \"tfidf_vectorizer.joblib\")\n",
    "print(\"Model and vectorizer saved to disk.\")\n",
    "\n",
    "# Function to load model/vectorizer and predict new text\n",
    "def load_model_and_predict(text):\n",
    "    model_loaded = joblib.load(\"fake_news_model.joblib\")\n",
    "    vectorizer_loaded = joblib.load(\"tfidf_vectorizer.joblib\")\n",
    "    text_tfidf = vectorizer_loaded.transform([text])\n",
    "    prediction = model_loaded.predict(text_tfidf)[0]\n",
    "    return prediction\n",
    "\n",
    "# Example usage\n",
    "if __name__ == \"__main__\":\n",
    "    sample_news = \"The government is planning to reduce taxes next year.\"\n",
    "    result = load_model_and_predict(sample_news)\n",
    "    print(f\"\\nPrediction for sample news: {result}\")"
   ]
  }
 ],
 "metadata": {
  "kernelspec": {
   "display_name": "Python [conda env:base] *",
   "language": "python",
   "name": "conda-base-py"
  },
  "language_info": {
   "codemirror_mode": {
    "name": "ipython",
    "version": 3
   },
   "file_extension": ".py",
   "mimetype": "text/x-python",
   "name": "python",
   "nbconvert_exporter": "python",
   "pygments_lexer": "ipython3",
   "version": "3.12.7"
  }
 },
 "nbformat": 4,
 "nbformat_minor": 5
}
